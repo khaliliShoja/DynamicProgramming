{
 "cells": [
  {
   "cell_type": "markdown",
   "metadata": {},
   "source": [
    "You are given n pairs of numbers. In every pair, the first number is always smaller than the second number.\n",
    "\n",
    "Now, we define a pair (c, d) can follow another pair (a, b) if and only if b < c. Chain of pairs can be formed in this fashion.\n",
    "\n",
    "Given a set of pairs, find the length longest chain which can be formed. You needn't use up all the given pairs. You can select pairs in any order.\n"
   ]
  },
  {
   "cell_type": "code",
   "execution_count": 9,
   "metadata": {
    "collapsed": false
   },
   "outputs": [
    {
     "name": "stdout",
     "output_type": "stream",
     "text": [
      "[1, 1, 2]\n"
     ]
    }
   ],
   "source": [
    "\n",
    "l=[[1,2],[2,3],[3,4]]\n",
    "\n",
    "\n",
    "\n",
    "l.sort(key=lambda x:x[1], reverse=True)\n",
    "#print(l)\n",
    "#print(l[0][0])\n",
    "\n",
    "def calMax(l):\n",
    "  \n",
    "  s=[0]*len(l)\n",
    "  s[0]=1\n",
    "  \n",
    "  for i in range(1,len(l)):\n",
    "    \n",
    "    maxx=1\n",
    "    for j in range(0,i):\n",
    "      \n",
    "      if(l[j][0]> l[i][1]):\n",
    "        s[i]=s[j]+1\n",
    "        #print(s[i])\n",
    "        if(maxx < s[i]):\n",
    "          maxx=s[i]\n",
    "    s[i]=maxx\n",
    "  \n",
    "  return s\n",
    "      \n",
    "\n",
    "\n",
    "print(calMax(l))  \n",
    "  "
   ]
  },
  {
   "cell_type": "code",
   "execution_count": null,
   "metadata": {
    "collapsed": true
   },
   "outputs": [],
   "source": []
  }
 ],
 "metadata": {
  "kernelspec": {
   "display_name": "Python 3",
   "language": "python",
   "name": "python3"
  },
  "language_info": {
   "codemirror_mode": {
    "name": "ipython",
    "version": 3
   },
   "file_extension": ".py",
   "mimetype": "text/x-python",
   "name": "python",
   "nbconvert_exporter": "python",
   "pygments_lexer": "ipython3",
   "version": "3.6.0"
  }
 },
 "nbformat": 4,
 "nbformat_minor": 2
}
