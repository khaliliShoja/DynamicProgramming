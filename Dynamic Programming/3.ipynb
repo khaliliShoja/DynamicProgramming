{
 "cells": [
  {
   "cell_type": "markdown",
   "metadata": {},
   "source": [
    "You are a professional robber planning to rob houses along a street. Each house has a certain amount of money stashed, the only constraint stopping you from robbing each of them is that adjacent houses have security system connected and it will automatically contact the police if two adjacent houses were broken into on the same night.\n",
    "Given a list of non-negative integers representing the amount of money of each house, determine the maximum amount of money you can rob tonight without alerting the police."
   ]
  },
  {
   "cell_type": "code",
   "execution_count": 1,
   "metadata": {
    "collapsed": false
   },
   "outputs": [
    {
     "name": "stdout",
     "output_type": "stream",
     "text": [
      "20\n"
     ]
    }
   ],
   "source": [
    "p=[0,1,2,3,4,5]\n",
    "p=[0,0,10,0,0,10]\n",
    "l=[0,-1,-1,-1,-1,-1]\n",
    "\n",
    "\n",
    "def calMax(l, p, s):\n",
    "  n=len(p)-1\n",
    "  if(-1 not in l):\n",
    "    #print(s[0])\n",
    "    return s[0]\n",
    "  \n",
    "  \n",
    "  \n",
    "  a1=0\n",
    "  a2=0\n",
    "  maxx=-9\n",
    "  for i in range(1,n+1):\n",
    "    maxx1=-9\n",
    "\n",
    "    if(l[i]==-1):\n",
    "      if(i!= n and  l[i-1]!=1 and l[i+1]!=1):\n",
    "        l1=l[:]\n",
    "        l1[i]=1\n",
    "        s1=s[:]\n",
    "        s1[0]=s1[0]+p[i]\n",
    "        #print(s1)\n",
    "        a1=calMax(l1,p,s1)\n",
    "      if(i==n and l[i-1]!=1):\n",
    "        l1=l[:]\n",
    "        l1[i]=1\n",
    "        s1=s[:]\n",
    "        s1[0]=s1[0]+p[i]\n",
    "        #print(s1[0])\n",
    "        a1=calMax(l1,p,s1)\n",
    "        #print(a1)\n",
    "      \n",
    "      l2=l[:]\n",
    "      l2[i]=0\n",
    "      s2=s[:]\n",
    "      a2=calMax(l2,p,s2)\n",
    "      #print(a2)\n",
    "    if(a1 > a2):\n",
    "      maxx1=a1\n",
    "    else:\n",
    "      maxx1=a2\n",
    "  if(maxx1>maxx):\n",
    "    return maxx1\n",
    "  else:\n",
    "    return maxx\n",
    "\n",
    "\n",
    "print(calMax(l,p,[0]))\n",
    "    \n"
   ]
  },
  {
   "cell_type": "code",
   "execution_count": null,
   "metadata": {
    "collapsed": true
   },
   "outputs": [],
   "source": []
  }
 ],
 "metadata": {
  "kernelspec": {
   "display_name": "Python 3",
   "language": "python",
   "name": "python3"
  },
  "language_info": {
   "codemirror_mode": {
    "name": "ipython",
    "version": 3
   },
   "file_extension": ".py",
   "mimetype": "text/x-python",
   "name": "python",
   "nbconvert_exporter": "python",
   "pygments_lexer": "ipython3",
   "version": "3.6.0"
  }
 },
 "nbformat": 4,
 "nbformat_minor": 2
}
