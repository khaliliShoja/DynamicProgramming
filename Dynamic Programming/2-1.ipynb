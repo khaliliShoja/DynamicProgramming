{
 "cells": [
  {
   "cell_type": "markdown",
   "metadata": {},
   "source": [
    "Given a road of length n and pairs p[i] for i=1,2,3,... where p[i] is the price of a rod of length i. Find the maximum total revenue you can make by cutting and selling the rod."
   ]
  },
  {
   "cell_type": "code",
   "execution_count": 4,
   "metadata": {
    "collapsed": false
   },
   "outputs": [
    {
     "name": "stdout",
     "output_type": "stream",
     "text": [
      "[0, 1, 5, 8, 10, 13]\n"
     ]
    }
   ],
   "source": [
    "\n",
    "def calmax(n,p):\n",
    "  s=[0]*(n+1)\n",
    "  s[1]=p[1]\n",
    "  for i in range(2,n+1):\n",
    "    maxx=-1\n",
    "    for j in range(0,i):\n",
    "      a=s[j]+p[i-j]\n",
    "      if(a > maxx):\n",
    "        maxx=a\n",
    "    s[i]=maxx\n",
    "  return s\n",
    "\n",
    "\n",
    "\n",
    "\n",
    "p=[0,1,5,8,9,10]\n",
    "\n",
    "print(calmax(5,p))"
   ]
  },
  {
   "cell_type": "code",
   "execution_count": null,
   "metadata": {
    "collapsed": true
   },
   "outputs": [],
   "source": []
  }
 ],
 "metadata": {
  "kernelspec": {
   "display_name": "Python 3",
   "language": "python",
   "name": "python3"
  },
  "language_info": {
   "codemirror_mode": {
    "name": "ipython",
    "version": 3
   },
   "file_extension": ".py",
   "mimetype": "text/x-python",
   "name": "python",
   "nbconvert_exporter": "python",
   "pygments_lexer": "ipython3",
   "version": "3.6.0"
  }
 },
 "nbformat": 4,
 "nbformat_minor": 2
}
