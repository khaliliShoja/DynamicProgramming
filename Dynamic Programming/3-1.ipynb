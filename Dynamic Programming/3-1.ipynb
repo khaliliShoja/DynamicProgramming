{
 "cells": [
  {
   "cell_type": "markdown",
   "metadata": {},
   "source": [
    "You are a professional robber planning to rob houses along a street. Each house has a certain amount of money stashed, the only constraint stopping you from robbing each of them is that adjacent houses have security system connected and it will automatically contact the police if two adjacent houses were broken into on the same night.\n",
    "Given a list of non-negative integers representing the amount of money of each house, determine the maximum amount of money you can rob tonight without alerting the police."
   ]
  },
  {
   "cell_type": "code",
   "execution_count": 2,
   "metadata": {
    "collapsed": false
   },
   "outputs": [
    {
     "name": "stdout",
     "output_type": "stream",
     "text": [
      "[0, 0, 10, 10, 10, 20]\n"
     ]
    }
   ],
   "source": [
    "p=[0,1,2,3,4,5]\n",
    "p=[0,0,10,0,0,10]\n",
    "def calMax(n,p):\n",
    "  s=[0]*(n+1)\n",
    "  s[0]=0\n",
    "  s[1]=p[1]\n",
    "  \n",
    "  for i in range(2,n+1):\n",
    "    #maxx=-1\n",
    "    if(i==2):\n",
    "      if(s[i-1]>p[i]):\n",
    "        s[i]=s[i-1]\n",
    "      else:\n",
    "        s[i]=p[i]\n",
    "    else:\n",
    "      if(s[i-1] > s[i-2]+p[i]):\n",
    "        s[i]=s[i-1]\n",
    "      else:\n",
    "        s[i]=s[i-2]+p[i]\n",
    "  return s\n",
    "  \n",
    "  \n",
    "print(calMax(5,p))\n",
    "        "
   ]
  },
  {
   "cell_type": "code",
   "execution_count": null,
   "metadata": {
    "collapsed": true
   },
   "outputs": [],
   "source": []
  }
 ],
 "metadata": {
  "kernelspec": {
   "display_name": "Python 3",
   "language": "python",
   "name": "python3"
  },
  "language_info": {
   "codemirror_mode": {
    "name": "ipython",
    "version": 3
   },
   "file_extension": ".py",
   "mimetype": "text/x-python",
   "name": "python",
   "nbconvert_exporter": "python",
   "pygments_lexer": "ipython3",
   "version": "3.6.0"
  }
 },
 "nbformat": 4,
 "nbformat_minor": 2
}
