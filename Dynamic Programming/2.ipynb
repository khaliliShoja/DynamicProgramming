{
 "cells": [
  {
   "cell_type": "markdown",
   "metadata": {},
   "source": [
    "Given a road of length n and pairs p[i] for i=1,2,3,... where p[i] is the price of a rod of length i. Find the maximum total revenue you can make by cutting and selling the rod."
   ]
  },
  {
   "cell_type": "code",
   "execution_count": 3,
   "metadata": {
    "collapsed": false
   },
   "outputs": [
    {
     "name": "stdout",
     "output_type": "stream",
     "text": [
      "13\n"
     ]
    }
   ],
   "source": [
    "def calmax(n, p):\n",
    "  if(n==0):\n",
    "    return 0\n",
    "  if(n==1):\n",
    "    return p[1]\n",
    "  \n",
    "  maxx=-1\n",
    "  \n",
    "  for i in range(1,n+1):\n",
    "    a=p[i]+calmax(n-i, p)\n",
    "    if(a > maxx):\n",
    "      maxx=a\n",
    "      \n",
    "  return maxx\n",
    "\n",
    "\n",
    "\n",
    "p=[0,1,5,8,9,10]\n",
    "\n",
    "print(calmax(5,p))"
   ]
  },
  {
   "cell_type": "code",
   "execution_count": null,
   "metadata": {
    "collapsed": true
   },
   "outputs": [],
   "source": []
  }
 ],
 "metadata": {
  "kernelspec": {
   "display_name": "Python 3",
   "language": "python",
   "name": "python3"
  },
  "language_info": {
   "codemirror_mode": {
    "name": "ipython",
    "version": 3
   },
   "file_extension": ".py",
   "mimetype": "text/x-python",
   "name": "python",
   "nbconvert_exporter": "python",
   "pygments_lexer": "ipython3",
   "version": "3.6.0"
  }
 },
 "nbformat": 4,
 "nbformat_minor": 2
}
