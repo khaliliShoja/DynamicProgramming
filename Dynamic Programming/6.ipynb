{
 "cells": [
  {
   "cell_type": "markdown",
   "metadata": {},
   "source": [
    "Given weights and values of n items, put these items in a knapsack of capacity W to get the maximum total value in the knapsack. In other words, given two integer arrays val[0..n-1] and wt[0..n-1] which represent values and weights associated with n items respectively. Also given an integer W which represents knapsack capacity, find out the maximum value subset of val[] such that sum of the weights of this subset is smaller than or equal to W. You cannot break an item, either pick the complete item, or don’t pick it (0-1 property).\n"
   ]
  },
  {
   "cell_type": "code",
   "execution_count": 10,
   "metadata": {
    "collapsed": false
   },
   "outputs": [
    {
     "name": "stdout",
     "output_type": "stream",
     "text": [
      "[[0, 0, 0, 0, 0, 0, 0, 0, 0, 0, 0], [0, 0, 0, 0, 0, 0, 30, 30, 30, 30, 30], [0, 0, 0, 14, 14, 14, 30, 30, 30, 44, 44], [0, 0, 0, 14, 16, 16, 30, 30, 30, 44, 46], [0, 0, 9, 14, 16, 23, 30, 30, 39, 44, 46]]\n"
     ]
    }
   ],
   "source": [
    "v=[0,30,14,16,9]\n",
    "w=[0,6,3,4,2]\n",
    "#Total weight is 10\n",
    "tw=10\n",
    "def maxVal(tw,v,w):\n",
    "  m=[[0]*(tw+1) for i in range (0,len(v))]\n",
    "  for i in range(0,len(v)):\n",
    "    for j in range(0, tw+1):\n",
    "      if(i==0 or j==0):\n",
    "        m[i][j]=0\n",
    "      else:\n",
    "        if(j >= w[i]):\n",
    "          if(m[i-1][j] > m[i-1][j-w[i]]+v[i]):\n",
    "            m[i][j]=m[i-1][j]\n",
    "          else:\n",
    "            m[i][j]=m[i-1][j-w[i]]+v[i]\n",
    "        else:\n",
    "          m[i][j]=m[i-1][j]\n",
    "  return m\n",
    "print( maxVal(tw,v,w))\n",
    "          \n",
    "  \n"
   ]
  },
  {
   "cell_type": "code",
   "execution_count": null,
   "metadata": {
    "collapsed": true
   },
   "outputs": [],
   "source": []
  }
 ],
 "metadata": {
  "kernelspec": {
   "display_name": "Python 3",
   "language": "python",
   "name": "python3"
  },
  "language_info": {
   "codemirror_mode": {
    "name": "ipython",
    "version": 3
   },
   "file_extension": ".py",
   "mimetype": "text/x-python",
   "name": "python",
   "nbconvert_exporter": "python",
   "pygments_lexer": "ipython3",
   "version": "3.6.0"
  }
 },
 "nbformat": 4,
 "nbformat_minor": 2
}
