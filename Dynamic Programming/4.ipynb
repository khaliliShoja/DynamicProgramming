{
 "cells": [
  {
   "cell_type": "markdown",
   "metadata": {},
   "source": [
    "Say you have an array for which the ith element is the price of a given stock on day i, if you were only permitted to complete at most one transaction, design for finding the maximum profit.\n"
   ]
  },
  {
   "cell_type": "code",
   "execution_count": 8,
   "metadata": {
    "collapsed": false
   },
   "outputs": [
    {
     "name": "stdout",
     "output_type": "stream",
     "text": [
      "[0, 0, 4, 4, 5, 5]\n"
     ]
    }
   ],
   "source": [
    "\n",
    "\n",
    "\n",
    "l=[7,1,5,3,6,4]\n",
    "\n",
    "\n",
    "def calMax(n,l):\n",
    "  s=[0]*n\n",
    "  s[0]=0\n",
    "  for i in range(1,n):\n",
    "    maxx=s[i-1]\n",
    "    for j in range(0,i):\n",
    "      if(l[i]-l[j] >= maxx):\n",
    "        s[i]=l[i]-l[j]\n",
    "        maxx=s[i]\n",
    "      else:\n",
    "        s[i]=maxx\n",
    "  return s\n",
    "\n",
    "\n",
    "\n",
    "print(calMax(len(l),l))\n",
    "  \n",
    "  "
   ]
  },
  {
   "cell_type": "code",
   "execution_count": null,
   "metadata": {
    "collapsed": true
   },
   "outputs": [],
   "source": []
  }
 ],
 "metadata": {
  "kernelspec": {
   "display_name": "Python 3",
   "language": "python",
   "name": "python3"
  },
  "language_info": {
   "codemirror_mode": {
    "name": "ipython",
    "version": 3
   },
   "file_extension": ".py",
   "mimetype": "text/x-python",
   "name": "python",
   "nbconvert_exporter": "python",
   "pygments_lexer": "ipython3",
   "version": "3.6.0"
  }
 },
 "nbformat": 4,
 "nbformat_minor": 2
}
